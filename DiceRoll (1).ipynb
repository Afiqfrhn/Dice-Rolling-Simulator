{
  "nbformat": 4,
  "nbformat_minor": 0,
  "metadata": {
    "colab": {
      "name": "DiceRoll.ipynb",
      "provenance": [],
      "collapsed_sections": []
    },
    "kernelspec": {
      "name": "python3",
      "display_name": "Python 3"
    },
    "language_info": {
      "name": "python"
    }
  },
  "cells": [
    {
      "cell_type": "markdown",
      "metadata": {
        "id": "NayX78z5jJW6"
      },
      "source": [
        "Dice Rolling Simulator"
      ]
    },
    {
      "cell_type": "code",
      "metadata": {
        "id": "GftjgcK5xqqT"
      },
      "source": [
        "# Import library\n",
        "\n",
        "from random import randint\n",
        " "
      ],
      "execution_count": null,
      "outputs": []
    },
    {
      "cell_type": "markdown",
      "metadata": {
        "id": "FJaInb9yp3YB"
      },
      "source": [
        "Simple version\n",
        "- if else statement\n",
        "- For loop\n",
        "- print output result"
      ]
    },
    {
      "cell_type": "code",
      "metadata": {
        "colab": {
          "base_uri": "https://localhost:8080/",
          "height": 86
        },
        "id": "Dmz-6A2LpM7r",
        "outputId": "98eb692d-6324-4916-c513-245c1e4aa368"
      },
      "source": [
        "# Write function here\n",
        "\n",
        "result = 0\n",
        "\n",
        "result = randint(1,6)\n",
        "\n",
        "print(\"Result: \" + str(result))\n",
        "\n",
        "'''\n",
        "if result == 1:\n",
        "  print(\"Result: \" + str(result))\n",
        "  print(\"Smallest\")\n",
        "\n",
        "elif result == 2:\n",
        "  print(\"Result: \" + str(result))\n",
        "\n",
        "elif result == 3:\n",
        "  print(\"Result: \" + str(result))\n",
        "\n",
        "elif result == 4:\n",
        "  print(\"Result: \" + str(result))\n",
        "\n",
        "elif result == 5:\n",
        "  print(\"Result: \" + str(result))\n",
        "\n",
        "else: \n",
        "  print(\"Result: \" + str(result))\n",
        "  print(\"Largest\")\n",
        "'''"
      ],
      "execution_count": null,
      "outputs": [
        {
          "output_type": "stream",
          "text": [
            "Result: 6\n"
          ],
          "name": "stdout"
        },
        {
          "output_type": "execute_result",
          "data": {
            "application/vnd.google.colaboratory.intrinsic+json": {
              "type": "string"
            },
            "text/plain": [
              "'\\nif result == 1:\\n  print(\"Result: \" + str(result))\\n  print(\"Smallest\")\\n\\nelif result == 2:\\n  print(\"Result: \" + str(result))\\n\\nelif result == 3:\\n  print(\"Result: \" + str(result))\\n\\nelif result == 4:\\n  print(\"Result: \" + str(result))\\n\\nelif result == 5:\\n  print(\"Result: \" + str(result))\\n\\nelse: \\n  print(\"Result: \" + str(result))\\n  print(\"Largest\")\\n'"
            ]
          },
          "metadata": {
            "tags": []
          },
          "execution_count": 40
        }
      ]
    },
    {
      "cell_type": "code",
      "metadata": {
        "colab": {
          "base_uri": "https://localhost:8080/"
        },
        "id": "vKEwYnxZt5F-",
        "outputId": "d39de9c6-9a74-45f3-c617-35cd8fd4330d"
      },
      "source": [
        "for i in range(10):\n",
        "  result = randint(1,6)\n",
        "  print(\"Result \" + str(result)) \n"
      ],
      "execution_count": null,
      "outputs": [
        {
          "output_type": "stream",
          "text": [
            "Result: 2\n",
            "Result: 3\n",
            "Result: 2\n",
            "Result: 3\n",
            "Result: 1\n",
            "Result: 6\n",
            "Result: 1\n",
            "Result: 5\n",
            "Result: 2\n",
            "Result: 1\n"
          ],
          "name": "stdout"
        }
      ]
    },
    {
      "cell_type": "markdown",
      "metadata": {
        "id": "-QnwEX6sByWX"
      },
      "source": [
        "define a fucntion with return\n",
        "- randomize\n",
        "- number or rounds\n",
        "- compare player \n",
        "\n",
        "\n"
      ]
    },
    {
      "cell_type": "code",
      "metadata": {
        "id": "zOO1u81xw4PH",
        "colab": {
          "base_uri": "https://localhost:8080/"
        },
        "outputId": "0104db53-e36b-451f-a958-895bd0e4abb2"
      },
      "source": [
        "'''\n",
        "def fucntion(params):\n",
        "   statement\n",
        "   return value\n",
        "\n",
        "result = function(input)\n",
        "print(result)\n",
        "'''\n",
        "\n",
        "\n",
        "from random import randint\n",
        "\n",
        "player1w=0\n",
        "player2w=0\n",
        "\n",
        "def roll_dice():\n",
        "  result = randint(1,6)\n",
        "  return result\n",
        "\n",
        "def comp_player(player1,player2,player1w,player2w):\n",
        "  if player1 > player2:\n",
        "    print(\"player 1 wins!\")\n",
        "    player1w=player1w+1\n",
        "  elif player2 > player1:\n",
        "    print(\"player 2 wins!\")\n",
        "    player2w=player2w+1\n",
        "  else:\n",
        "    print(\"Draw!\")\n",
        "  return player1w,player2w\n",
        "    \n",
        "def main(round):\n",
        "  for i in range(round):\n",
        "    player1 =  roll_dice()\n",
        "    player2 =  roll_dice()\n",
        "    p1,p2=comp_player(player1,player2,player1w,player2w)\n",
        "  return p1,p2\n",
        "\n",
        "\n",
        "\n",
        "#input \n",
        "name = input (\"Enter your name: \")\n",
        "print(\"Hello, {}!\".format(name.title()))\n",
        "print ('Welcome to Dice Rolling Simulator!')\n",
        "round=input(\"How many rounds of dice? : \")\n",
        "round=int(round)\n",
        "print ('Press ENTER to roll your dice')\n",
        "\n",
        "input()\n",
        "\n",
        "p1,p2=main(round)\n",
        "if p1>p2:\n",
        "  print(\"Player 1 total win!: \"+str(p1))\n",
        "elif p2>p1:\n",
        "  print(\"Player 2 total win!: \"+str(p2))\n",
        "else:\n",
        "  print(\"Draw overall!\")\n",
        "\n",
        "print(player1w,player2w)"
      ],
      "execution_count": null,
      "outputs": [
        {
          "output_type": "stream",
          "text": [
            "Enter your name: nisa\n",
            "Hello, Nisa!\n",
            "Welcome to Dice Rolling Simulator!\n",
            "How many rounds of dice? : 5\n",
            "Press ENTER to roll your dice\n",
            "\n",
            "player 1 wins!\n",
            "player 1 wins!\n",
            "player 1 wins!\n",
            "player 1 wins!\n",
            "player 1 wins!\n",
            "Player 1 total win!: 1\n",
            "0 0\n"
          ],
          "name": "stdout"
        }
      ]
    },
    {
      "cell_type": "code",
      "metadata": {
        "colab": {
          "base_uri": "https://localhost:8080/",
          "height": 537
        },
        "id": "R5YG2Nh0I9Vi",
        "outputId": "c4c8cbfc-996b-49be-c6bf-359282607b9c"
      },
      "source": [
        "# Import library\n",
        "\n",
        "from random import randint\n",
        "#input \n",
        "name = input (\"Enter your name: \")\n",
        "print(\"Hello, {}!\".format(name.title()))\n",
        "print ('Welcome to Dice Rolling Simulator!')\n",
        "round=input(\"How many rounds of dice? : \")\n",
        "round=int(round)\n",
        "print ('Press ENTER to roll your dice')\n",
        "\n",
        "input()\n",
        "result = randint(1,6)\n",
        "\n",
        "\n",
        "#looping\n",
        "for i in range(round):\n",
        "\n",
        "  result = randint(1,6)\n",
        "\n",
        "# condition \n",
        "  if result == 1:\n",
        "    \n",
        "    print(\"Smallest\")\n",
        "  elif result == 6:\n",
        "   \n",
        "    print(\"Largest\")\n",
        "\n",
        "  print(\"Result \" + str(result)) \n",
        "\n",
        "\n",
        "#comparison bagi between player\n",
        "def roll_dice():\n",
        "  result = randint(1,6)\n",
        "  return result\n",
        "\n",
        "def comp_player(player1,player2):\n",
        "  if player1 > player2:\n",
        "    print(\"player 1 wins!\")\n",
        "  elif player2 > player1:\n",
        "    print(\"player 2 wins!\")\n",
        "  else:\n",
        "    print(\"Draw!\")\n",
        "    \n",
        "def main():\n",
        "   player1 =  roll_dice()\n",
        "   player2 =  roll_dice()\n",
        "   comp_player(player1,player2)\n",
        "\n",
        "main()\n"
      ],
      "execution_count": null,
      "outputs": [
        {
          "output_type": "error",
          "ename": "KeyboardInterrupt",
          "evalue": "ignored",
          "traceback": [
            "\u001b[0;31m---------------------------------------------------------------------------\u001b[0m",
            "\u001b[0;31mKeyboardInterrupt\u001b[0m                         Traceback (most recent call last)",
            "\u001b[0;32m/usr/local/lib/python3.7/dist-packages/ipykernel/kernelbase.py\u001b[0m in \u001b[0;36m_input_request\u001b[0;34m(self, prompt, ident, parent, password)\u001b[0m\n\u001b[1;32m    728\u001b[0m             \u001b[0;32mtry\u001b[0m\u001b[0;34m:\u001b[0m\u001b[0;34m\u001b[0m\u001b[0;34m\u001b[0m\u001b[0m\n\u001b[0;32m--> 729\u001b[0;31m                 \u001b[0mident\u001b[0m\u001b[0;34m,\u001b[0m \u001b[0mreply\u001b[0m \u001b[0;34m=\u001b[0m \u001b[0mself\u001b[0m\u001b[0;34m.\u001b[0m\u001b[0msession\u001b[0m\u001b[0;34m.\u001b[0m\u001b[0mrecv\u001b[0m\u001b[0;34m(\u001b[0m\u001b[0mself\u001b[0m\u001b[0;34m.\u001b[0m\u001b[0mstdin_socket\u001b[0m\u001b[0;34m,\u001b[0m \u001b[0;36m0\u001b[0m\u001b[0;34m)\u001b[0m\u001b[0;34m\u001b[0m\u001b[0;34m\u001b[0m\u001b[0m\n\u001b[0m\u001b[1;32m    730\u001b[0m             \u001b[0;32mexcept\u001b[0m \u001b[0mException\u001b[0m\u001b[0;34m:\u001b[0m\u001b[0;34m\u001b[0m\u001b[0;34m\u001b[0m\u001b[0m\n",
            "\u001b[0;32m/usr/local/lib/python3.7/dist-packages/jupyter_client/session.py\u001b[0m in \u001b[0;36mrecv\u001b[0;34m(self, socket, mode, content, copy)\u001b[0m\n\u001b[1;32m    802\u001b[0m         \u001b[0;32mtry\u001b[0m\u001b[0;34m:\u001b[0m\u001b[0;34m\u001b[0m\u001b[0;34m\u001b[0m\u001b[0m\n\u001b[0;32m--> 803\u001b[0;31m             \u001b[0mmsg_list\u001b[0m \u001b[0;34m=\u001b[0m \u001b[0msocket\u001b[0m\u001b[0;34m.\u001b[0m\u001b[0mrecv_multipart\u001b[0m\u001b[0;34m(\u001b[0m\u001b[0mmode\u001b[0m\u001b[0;34m,\u001b[0m \u001b[0mcopy\u001b[0m\u001b[0;34m=\u001b[0m\u001b[0mcopy\u001b[0m\u001b[0;34m)\u001b[0m\u001b[0;34m\u001b[0m\u001b[0;34m\u001b[0m\u001b[0m\n\u001b[0m\u001b[1;32m    804\u001b[0m         \u001b[0;32mexcept\u001b[0m \u001b[0mzmq\u001b[0m\u001b[0;34m.\u001b[0m\u001b[0mZMQError\u001b[0m \u001b[0;32mas\u001b[0m \u001b[0me\u001b[0m\u001b[0;34m:\u001b[0m\u001b[0;34m\u001b[0m\u001b[0;34m\u001b[0m\u001b[0m\n",
            "\u001b[0;32m/usr/local/lib/python3.7/dist-packages/zmq/sugar/socket.py\u001b[0m in \u001b[0;36mrecv_multipart\u001b[0;34m(self, flags, copy, track)\u001b[0m\n\u001b[1;32m    582\u001b[0m         \"\"\"\n\u001b[0;32m--> 583\u001b[0;31m         \u001b[0mparts\u001b[0m \u001b[0;34m=\u001b[0m \u001b[0;34m[\u001b[0m\u001b[0mself\u001b[0m\u001b[0;34m.\u001b[0m\u001b[0mrecv\u001b[0m\u001b[0;34m(\u001b[0m\u001b[0mflags\u001b[0m\u001b[0;34m,\u001b[0m \u001b[0mcopy\u001b[0m\u001b[0;34m=\u001b[0m\u001b[0mcopy\u001b[0m\u001b[0;34m,\u001b[0m \u001b[0mtrack\u001b[0m\u001b[0;34m=\u001b[0m\u001b[0mtrack\u001b[0m\u001b[0;34m)\u001b[0m\u001b[0;34m]\u001b[0m\u001b[0;34m\u001b[0m\u001b[0;34m\u001b[0m\u001b[0m\n\u001b[0m\u001b[1;32m    584\u001b[0m         \u001b[0;31m# have first part already, only loop while more to receive\u001b[0m\u001b[0;34m\u001b[0m\u001b[0;34m\u001b[0m\u001b[0;34m\u001b[0m\u001b[0m\n",
            "\u001b[0;32mzmq/backend/cython/socket.pyx\u001b[0m in \u001b[0;36mzmq.backend.cython.socket.Socket.recv\u001b[0;34m()\u001b[0m\n",
            "\u001b[0;32mzmq/backend/cython/socket.pyx\u001b[0m in \u001b[0;36mzmq.backend.cython.socket.Socket.recv\u001b[0;34m()\u001b[0m\n",
            "\u001b[0;32mzmq/backend/cython/socket.pyx\u001b[0m in \u001b[0;36mzmq.backend.cython.socket._recv_copy\u001b[0;34m()\u001b[0m\n",
            "\u001b[0;32m/usr/local/lib/python3.7/dist-packages/zmq/backend/cython/checkrc.pxd\u001b[0m in \u001b[0;36mzmq.backend.cython.checkrc._check_rc\u001b[0;34m()\u001b[0m\n",
            "\u001b[0;31mKeyboardInterrupt\u001b[0m: ",
            "\nDuring handling of the above exception, another exception occurred:\n",
            "\u001b[0;31mKeyboardInterrupt\u001b[0m                         Traceback (most recent call last)",
            "\u001b[0;32m<ipython-input-12-60624b2a11b3>\u001b[0m in \u001b[0;36m<module>\u001b[0;34m()\u001b[0m\n\u001b[1;32m      3\u001b[0m \u001b[0;32mfrom\u001b[0m \u001b[0mrandom\u001b[0m \u001b[0;32mimport\u001b[0m \u001b[0mrandint\u001b[0m\u001b[0;34m\u001b[0m\u001b[0;34m\u001b[0m\u001b[0m\n\u001b[1;32m      4\u001b[0m \u001b[0;31m#input\u001b[0m\u001b[0;34m\u001b[0m\u001b[0;34m\u001b[0m\u001b[0;34m\u001b[0m\u001b[0m\n\u001b[0;32m----> 5\u001b[0;31m \u001b[0mname\u001b[0m \u001b[0;34m=\u001b[0m \u001b[0minput\u001b[0m \u001b[0;34m(\u001b[0m\u001b[0;34m\"Enter your name: \"\u001b[0m\u001b[0;34m)\u001b[0m\u001b[0;34m\u001b[0m\u001b[0;34m\u001b[0m\u001b[0m\n\u001b[0m\u001b[1;32m      6\u001b[0m \u001b[0mprint\u001b[0m\u001b[0;34m(\u001b[0m\u001b[0;34m\"Hello, {}!\"\u001b[0m\u001b[0;34m.\u001b[0m\u001b[0mformat\u001b[0m\u001b[0;34m(\u001b[0m\u001b[0mname\u001b[0m\u001b[0;34m.\u001b[0m\u001b[0mtitle\u001b[0m\u001b[0;34m(\u001b[0m\u001b[0;34m)\u001b[0m\u001b[0;34m)\u001b[0m\u001b[0;34m)\u001b[0m\u001b[0;34m\u001b[0m\u001b[0;34m\u001b[0m\u001b[0m\n\u001b[1;32m      7\u001b[0m \u001b[0mprint\u001b[0m \u001b[0;34m(\u001b[0m\u001b[0;34m'Welcome to Dice Rolling Simulator!'\u001b[0m\u001b[0;34m)\u001b[0m\u001b[0;34m\u001b[0m\u001b[0;34m\u001b[0m\u001b[0m\n",
            "\u001b[0;32m/usr/local/lib/python3.7/dist-packages/ipykernel/kernelbase.py\u001b[0m in \u001b[0;36mraw_input\u001b[0;34m(self, prompt)\u001b[0m\n\u001b[1;32m    702\u001b[0m             \u001b[0mself\u001b[0m\u001b[0;34m.\u001b[0m\u001b[0m_parent_ident\u001b[0m\u001b[0;34m,\u001b[0m\u001b[0;34m\u001b[0m\u001b[0;34m\u001b[0m\u001b[0m\n\u001b[1;32m    703\u001b[0m             \u001b[0mself\u001b[0m\u001b[0;34m.\u001b[0m\u001b[0m_parent_header\u001b[0m\u001b[0;34m,\u001b[0m\u001b[0;34m\u001b[0m\u001b[0;34m\u001b[0m\u001b[0m\n\u001b[0;32m--> 704\u001b[0;31m             \u001b[0mpassword\u001b[0m\u001b[0;34m=\u001b[0m\u001b[0;32mFalse\u001b[0m\u001b[0;34m,\u001b[0m\u001b[0;34m\u001b[0m\u001b[0;34m\u001b[0m\u001b[0m\n\u001b[0m\u001b[1;32m    705\u001b[0m         )\n\u001b[1;32m    706\u001b[0m \u001b[0;34m\u001b[0m\u001b[0m\n",
            "\u001b[0;32m/usr/local/lib/python3.7/dist-packages/ipykernel/kernelbase.py\u001b[0m in \u001b[0;36m_input_request\u001b[0;34m(self, prompt, ident, parent, password)\u001b[0m\n\u001b[1;32m    732\u001b[0m             \u001b[0;32mexcept\u001b[0m \u001b[0mKeyboardInterrupt\u001b[0m\u001b[0;34m:\u001b[0m\u001b[0;34m\u001b[0m\u001b[0;34m\u001b[0m\u001b[0m\n\u001b[1;32m    733\u001b[0m                 \u001b[0;31m# re-raise KeyboardInterrupt, to truncate traceback\u001b[0m\u001b[0;34m\u001b[0m\u001b[0;34m\u001b[0m\u001b[0;34m\u001b[0m\u001b[0m\n\u001b[0;32m--> 734\u001b[0;31m                 \u001b[0;32mraise\u001b[0m \u001b[0mKeyboardInterrupt\u001b[0m\u001b[0;34m\u001b[0m\u001b[0;34m\u001b[0m\u001b[0m\n\u001b[0m\u001b[1;32m    735\u001b[0m             \u001b[0;32melse\u001b[0m\u001b[0;34m:\u001b[0m\u001b[0;34m\u001b[0m\u001b[0;34m\u001b[0m\u001b[0m\n\u001b[1;32m    736\u001b[0m                 \u001b[0;32mbreak\u001b[0m\u001b[0;34m\u001b[0m\u001b[0;34m\u001b[0m\u001b[0m\n",
            "\u001b[0;31mKeyboardInterrupt\u001b[0m: "
          ]
        }
      ]
    },
    {
      "cell_type": "markdown",
      "metadata": {
        "id": "28pDiD02pzut"
      },
      "source": [
        ""
      ]
    }
  ]
}